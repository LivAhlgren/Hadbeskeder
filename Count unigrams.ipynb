{
 "cells": [
  {
   "cell_type": "code",
   "execution_count": null,
   "id": "early-picnic",
   "metadata": {},
   "outputs": [],
   "source": [
    "# Indlæs fil og rens teksten\n",
    "\n",
    "# Læs fil\n",
    "with open('Hadbeskeder.txt', 'r') as f:\n",
    "    text = f.read()\n",
    "    \n",
    "# Lav små bogstaver og fjern tegnsætning\n",
    "import string\n",
    "text_low = text.lower() #små bogstaver\n",
    "text_clean = text_low.translate(str.maketrans('', '', string.punctuation)) #fjerner tegnsætning"
   ]
  },
  {
   "cell_type": "code",
   "execution_count": null,
   "id": "human-conflict",
   "metadata": {},
   "outputs": [],
   "source": [
    "# Test at fillæsning virker\n",
    "\n",
    "type(text)"
   ]
  },
  {
   "cell_type": "code",
   "execution_count": null,
   "id": "excessive-afternoon",
   "metadata": {},
   "outputs": [],
   "source": [
    "# Test at tekstrensning virker\n",
    "\n",
    "#print(text_low)\n",
    "#print(text_clean)"
   ]
  },
  {
   "cell_type": "code",
   "execution_count": null,
   "id": "laughing-standard",
   "metadata": {},
   "outputs": [],
   "source": [
    "# Lav en liste med alle beskederne\n",
    "\n",
    "beskeder = []\n",
    "\n",
    "for besked in text_clean.split('\\n'):\n",
    "    beskeder.append(besked)\n",
    "\n",
    "len(beskeder)"
   ]
  },
  {
   "cell_type": "code",
   "execution_count": null,
   "id": "center-columbia",
   "metadata": {},
   "outputs": [],
   "source": [
    "#Find antal ord i hver besked\n",
    "\n",
    "import statistics\n",
    "\n",
    "antal_ord = []\n",
    "\n",
    "for tekst in beskeder:\n",
    "    antal_ord.append(len(tekst.split()))\n",
    "\n",
    "#print(antal_ord)\n",
    "\n",
    "print(\"Longest message:\", max(antal_ord)) #Længste besked\n",
    "print(\"Shortest message:\", min(antal_ord)) #Korteste besked\n",
    "\n",
    "\n",
    "print(\"Average length:\", statistics.mean(antal_ord)) #Gennemsnitslængde"
   ]
  },
  {
   "cell_type": "code",
   "execution_count": null,
   "id": "personalized-turning",
   "metadata": {},
   "outputs": [],
   "source": [
    "# Tæl antal tokens (ord) i korpus\n",
    "\n",
    "tokens = [] # tom liste\n",
    "for word in text_clean.split(): #opdel ved mellemrum\n",
    "    tokens.append(word) #put alle ord ind i listen\n",
    "\n",
    "number_of_tokens = len(tokens)\n",
    "print('Number of tokens: ', number_of_tokens)\n",
    "\n",
    "\n",
    "# Tæl antal types (unikke ord) i korpus\n",
    "types = [] #tom liste\n",
    "\n",
    "for word in text_clean.split(): #opdel ved mellemrum\n",
    "    if word not in types: #se om ordet allerede er i listen\n",
    "        types.append(word)\n",
    "\n",
    "number_of_types = len(types)\n",
    "print('Number of unique types: ', number_of_types)\n",
    "#print(types)"
   ]
  },
  {
   "cell_type": "code",
   "execution_count": null,
   "id": "composite-sodium",
   "metadata": {},
   "outputs": [],
   "source": [
    "# Optælling af antal af specifikke tokens\n",
    "# OBS: \"i\" inkluderer også præposition\n",
    "\n",
    "print('du:', tokens.count(\"du\"))\n",
    "print('i:', tokens.count(\"i\"))\n",
    "print('dig:', tokens.count(\"dig\"))\n",
    "print('jer:', tokens.count(\"jer\"))\n",
    "print(' ')\n",
    "print('jeg:', tokens.count(\"jeg\"))\n",
    "print('vi:', tokens.count(\"vi\"))\n",
    "print('mig:', tokens.count(\"mig\"))\n",
    "print('os:', tokens.count(\"os\"))"
   ]
  },
  {
   "cell_type": "code",
   "execution_count": null,
   "id": "crucial-content",
   "metadata": {},
   "outputs": [],
   "source": [
    "# Tæl unigrams\n",
    "\n",
    "from collections import Counter\n",
    "from nltk import ngrams\n",
    "\n",
    "ngram_counts = Counter(ngrams(text_clean.split(), 1))\n",
    "unigrams = ngram_counts.most_common(20)\n",
    "unigrams"
   ]
  },
  {
   "cell_type": "code",
   "execution_count": null,
   "id": "divine-aviation",
   "metadata": {},
   "outputs": [],
   "source": [
    "# Tæl bigrams\n",
    "\n",
    "ngram_counts = Counter(ngrams(text_clean.split(), 2))\n",
    "bigrams = ngram_counts.most_common(20)\n",
    "bigrams"
   ]
  },
  {
   "cell_type": "code",
   "execution_count": null,
   "id": "superior-ribbon",
   "metadata": {},
   "outputs": [],
   "source": [
    "# Find beskeder med f.eks. \"vi\" eller \"du er\"\n",
    "\n",
    "#Søge på fraser\n",
    "for besked in beskeder:\n",
    "    if 'du er' in besked:\n",
    "        print(besked)"
   ]
  },
  {
   "cell_type": "code",
   "execution_count": null,
   "id": "conscious-above",
   "metadata": {},
   "outputs": [],
   "source": [
    "# Find beskeder med f.eks. \"vi\" eller \"du er\"\n",
    "\n",
    "#Søge på enkeltord\n",
    "for besked in beskeder:\n",
    "    if 'vi' in besked.split(): #tilføj .split() for at sortere fx. \"vi\" = videre\" fra\n",
    "        print(besked)"
   ]
  },
  {
   "cell_type": "code",
   "execution_count": null,
   "id": "burning-accordance",
   "metadata": {},
   "outputs": [],
   "source": [
    "# Print beskeder UDEN bestemte ord\n",
    "# Her finder jeg fx. beskeder uden andenpersonspronomener\n",
    "\n",
    "#Søge på enkeltord - tilføj .split() for at tilføje mellemrum og sortere fx. \"vi\" = videre\" fra\n",
    "for besked in beskeder:\n",
    "    if 'du' not in besked.split():\n",
    "        if 'din' not in besked.split():\n",
    "            if 'dit' not in besked.split():\n",
    "                if 'dig' not in besked.split():\n",
    "                    if 'i' not in besked.split():\n",
    "                        print(besked)"
   ]
  },
  {
   "cell_type": "code",
   "execution_count": null,
   "id": "soviet-fence",
   "metadata": {},
   "outputs": [],
   "source": []
  }
 ],
 "metadata": {
  "kernelspec": {
   "display_name": "Python 3",
   "language": "python",
   "name": "python3"
  },
  "language_info": {
   "codemirror_mode": {
    "name": "ipython",
    "version": 3
   },
   "file_extension": ".py",
   "mimetype": "text/x-python",
   "name": "python",
   "nbconvert_exporter": "python",
   "pygments_lexer": "ipython3",
   "version": "3.9.1"
  }
 },
 "nbformat": 4,
 "nbformat_minor": 5
}
